{
  "nbformat": 4,
  "nbformat_minor": 0,
  "metadata": {
    "accelerator": "GPU",
    "colab": {
      "name": "faceswap.ipynb",
      "provenance": [],
      "collapsed_sections": []
    },
    "kernelspec": {
      "display_name": "Python 3",
      "name": "python3"
    }
  },
  "cells": [
    {
      "cell_type": "markdown",
      "metadata": {
        "id": "3ZEQEmyduVrI"
      },
      "source": [
        "# initialization"
      ]
    },
    {
      "cell_type": "markdown",
      "metadata": {
        "id": "3AzJEPlseKfX"
      },
      "source": [
        "Remove the sample data folder\n",
        "Reset the python path"
      ]
    },
    {
      "cell_type": "code",
      "metadata": {
        "id": "zQaoWMySnuHp"
      },
      "source": [
        "!rm sample_data -R\n",
        "!mkdir src faces model\n",
        "%env PYTHONPATH="
      ],
      "execution_count": null,
      "outputs": []
    },
    {
      "cell_type": "markdown",
      "metadata": {
        "id": "5_CTtXWbeFj6"
      },
      "source": [
        "Update the OS on the cloab (optional)"
      ]
    },
    {
      "cell_type": "code",
      "metadata": {
        "id": "OUDTwLjTl6Hg"
      },
      "source": [
        "!apt update && apt upgrade -y; apt autoclean -y"
      ],
      "execution_count": null,
      "outputs": []
    },
    {
      "cell_type": "markdown",
      "metadata": {
        "id": "FbeMD8N_fXP5"
      },
      "source": [
        "FaceSwap environment prepration :\n",
        "\n",
        "1.   Download the Miniconda setup file\n",
        "2.   Install the Miniconda\n",
        "3.   Set Conda as the default python environment\n",
        "4.   Get the FaceSwap\n",
        "5.   Install the Faceswap requierment packages\n",
        "6. Remove the templet files"
      ]
    },
    {
      "cell_type": "code",
      "metadata": {
        "id": "rU6Kp3csSJLy",
        "cellView": "code"
      },
      "source": [
        "#@title Default title text\n",
        "%%bash\n",
        "# Pre-installation parameters\n",
        "MINICONDA_INSTALLER_SCRIPT=Miniconda3-py37_4.9.2-Linux-x86_64.sh\n",
        "MINICONDA_PREFIX=/usr/local\n",
        "# download the Miniconda setup file\n",
        "wget https://repo.continuum.io/miniconda/$MINICONDA_INSTALLER_SCRIPT\n",
        "# grent the run flag for the setup file\n",
        "chmod +x $MINICONDA_INSTALLER_SCRIPT\n",
        "# install Miniconde\n",
        "./$MINICONDA_INSTALLER_SCRIPT -b -f -p $MINICONDA_PREFIX\n",
        "# set Conda as default\n",
        "conda install --channel defaults conda python=3.7 --yes\n",
        "# Update the miniconda packages\n",
        "conda update --channel defaults --all --yes"
      ],
      "execution_count": null,
      "outputs": []
    },
    {
      "cell_type": "markdown",
      "metadata": {
        "id": "7Y_J-3_yzL7r"
      },
      "source": [
        "## Preparing the faceswap"
      ]
    },
    {
      "cell_type": "code",
      "metadata": {
        "id": "PJXpHdjxzD0M"
      },
      "source": [
        "# download FaceSwap\n",
        "git clone https://github.com/deepfakes/faceswap.git\n",
        "# open the faceswap folder\n",
        "cd faceswap\n",
        "# install the requierment packages\n",
        "pip install -r requirements_nvidia.txt\n",
        "# remove the setup file\n",
        "rm Miniconda3-py37_4.9.2-Linux-x86_64.sh\n",
        "# remove the pip cache files\n",
        "rm -r ~/.cache/pip "
      ],
      "execution_count": null,
      "outputs": []
    },
    {
      "cell_type": "markdown",
      "metadata": {
        "id": "-YztHAyBuSLz"
      },
      "source": [
        "# Training"
      ]
    },
    {
      "cell_type": "code",
      "metadata": {
        "id": "9fZvzDfatcuu"
      },
      "source": [
        "cd faceswap"
      ],
      "execution_count": null,
      "outputs": []
    },
    {
      "cell_type": "markdown",
      "metadata": {
        "id": "ELgIrp3wu5YF"
      },
      "source": [
        "## Extract"
      ]
    },
    {
      "cell_type": "code",
      "metadata": {
        "id": "LkgNe7d1LmYM"
      },
      "source": [
        "!python faceswap.py extract -i ../src/face_scr.mp4 -o ../faces/face_scr -al ../src/face_scr_alignments.fsa"
      ],
      "execution_count": null,
      "outputs": []
    },
    {
      "cell_type": "code",
      "metadata": {
        "id": "VlDAyUD5L0io"
      },
      "source": [
        "!python faceswap.py extract -i ../src/face_trg.mp4 -o ../faces/face_trg -al ../src/face_trg_alignments.fsa"
      ],
      "execution_count": null,
      "outputs": []
    },
    {
      "cell_type": "code",
      "metadata": {
        "id": "jqgOcUj3c6p5"
      },
      "source": [
        "!python faceswap.py convert -i ../src/face_trg.mp4 -o store/out -m store/model"
      ],
      "execution_count": null,
      "outputs": []
    },
    {
      "cell_type": "markdown",
      "metadata": {
        "id": "6jLozw1fvfom"
      },
      "source": [
        "## Training"
      ]
    },
    {
      "cell_type": "code",
      "metadata": {
        "cellView": "code",
        "id": "4O3aHJ6Cjsw0"
      },
      "source": [
        "!python faceswap.py train -A ../faces/face_trg -ala ../src/face_trg_alignments.fsa -B ../faces/face_scr -alb ../src/face_scr_alignments.fsa -m store/model -s 250 -ss 25000 -ps 100"
      ],
      "execution_count": null,
      "outputs": []
    },
    {
      "cell_type": "code",
      "metadata": {
        "id": "Tczk2pHpNfnl"
      },
      "source": [
        "!python faceswap.py train -A ../faces/moumry -ala ../src/moumry_alignments.fsa -B ../faces/houthi -alb ../src/houthi_alignments.fsa -m ../tmodel -l ../tmodel/original.h5 -s 250 -ss 25000 -ps 100"
      ],
      "execution_count": null,
      "outputs": []
    },
    {
      "cell_type": "markdown",
      "metadata": {
        "id": "LBwWRraqvn_Z"
      },
      "source": [
        "## Final"
      ]
    },
    {
      "cell_type": "code",
      "metadata": {
        "id": "ZA4bVCAECRcB"
      },
      "source": [
        "ffmpeg -i face_trg-%0d.png -c:v libx264 -vf \"fps=25,format=yuv420p\" out.mp4"
      ],
      "execution_count": null,
      "outputs": []
    }
  ]
}